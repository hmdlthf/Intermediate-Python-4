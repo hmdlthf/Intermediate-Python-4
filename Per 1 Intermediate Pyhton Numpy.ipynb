{
 "cells": [
  {
   "cell_type": "markdown",
   "metadata": {
    "id": "oUM6IjlGkHB3"
   },
   "source": [
    "# NUMPY - Multidimensional Data Arrays"
   ]
  },
  {
   "cell_type": "markdown",
   "metadata": {
    "id": "NK0eGybXkHCC"
   },
   "source": [
    "It is a package that provide high-performance vector, matrix and higher-dimensional data structures for Python. NumPy brings the computational power of languages like C and Fortran to Python, a language much easier to learn and use."
   ]
  },
  {
   "cell_type": "code",
   "execution_count": 1,
   "metadata": {
    "id": "HiRabrCCkHCD"
   },
   "outputs": [],
   "source": [
    "import numpy as np"
   ]
  },
  {
   "cell_type": "code",
   "execution_count": 2,
   "metadata": {
    "id": "ux7Bz1O9kHCE",
    "outputId": "050c70a8-d46f-41f7-b004-2d2f946c025d",
    "scrolled": true
   },
   "outputs": [
    {
     "data": {
      "text/plain": [
       "'1.19.2'"
      ]
     },
     "execution_count": 2,
     "metadata": {},
     "output_type": "execute_result"
    }
   ],
   "source": [
    "np.__version__"
   ]
  },
  {
   "cell_type": "code",
   "execution_count": null,
   "metadata": {
    "id": "mukx1L-TkHCF",
    "outputId": "4cf08f2d-eb94-426e-d971-ee7992587512"
   },
   "outputs": [
    {
     "name": "stdout",
     "output_type": "stream",
     "text": [
      "add(x1, x2, /, out=None, *, where=True, casting='same_kind', order='K', dtype=None, subok=True[, signature, extobj])\n",
      "\n",
      "Add arguments element-wise.\n",
      "\n",
      "Parameters\n",
      "----------\n",
      "x1, x2 : array_like\n",
      "    The arrays to be added.\n",
      "    If ``x1.shape != x2.shape``, they must be broadcastable to a common\n",
      "    shape (which becomes the shape of the output).\n",
      "out : ndarray, None, or tuple of ndarray and None, optional\n",
      "    A location into which the result is stored. If provided, it must have\n",
      "    a shape that the inputs broadcast to. If not provided or None,\n",
      "    a freshly-allocated array is returned. A tuple (possible only as a\n",
      "    keyword argument) must have length equal to the number of outputs.\n",
      "where : array_like, optional\n",
      "    This condition is broadcast over the input. At locations where the\n",
      "    condition is True, the `out` array will be set to the ufunc result.\n",
      "    Elsewhere, the `out` array will retain its original value.\n",
      "    Note that if an uninitialized `out` array is created via the default\n",
      "    ``out=None``, locations within it where the condition is False will\n",
      "    remain uninitialized.\n",
      "**kwargs\n",
      "    For other keyword-only arguments, see the\n",
      "    :ref:`ufunc docs <ufuncs.kwargs>`.\n",
      "\n",
      "Returns\n",
      "-------\n",
      "add : ndarray or scalar\n",
      "    The sum of `x1` and `x2`, element-wise.\n",
      "    This is a scalar if both `x1` and `x2` are scalars.\n",
      "\n",
      "Notes\n",
      "-----\n",
      "Equivalent to `x1` + `x2` in terms of array broadcasting.\n",
      "\n",
      "Examples\n",
      "--------\n",
      ">>> np.add(1.0, 4.0)\n",
      "5.0\n",
      ">>> x1 = np.arange(9.0).reshape((3, 3))\n",
      ">>> x2 = np.arange(3.0)\n",
      ">>> np.add(x1, x2)\n",
      "array([[  0.,   2.,   4.],\n",
      "       [  3.,   5.,   7.],\n",
      "       [  6.,   8.,  10.]])\n",
      "None\n"
     ]
    }
   ],
   "source": [
    "print(np.info(np.add))"
   ]
  },
  {
   "cell_type": "markdown",
   "metadata": {
    "id": "zuU8PCyWkHCG"
   },
   "source": [
    "## What is Array?"
   ]
  },
  {
   "cell_type": "markdown",
   "metadata": {
    "id": "iWVGrICGkHCG"
   },
   "source": [
    "![](image/array.png)"
   ]
  },
  {
   "cell_type": "code",
   "execution_count": 1,
   "metadata": {
    "executionInfo": {
     "elapsed": 2722,
     "status": "ok",
     "timestamp": 1613291774685,
     "user": {
      "displayName": "Lili Pertiwi",
      "photoUrl": "https://lh5.googleusercontent.com/-s3q89hzi1-o/AAAAAAAAAAI/AAAAAAAAALU/lRrJn-VoZLw/s64/photo.jpg",
      "userId": "18353295371351247385"
     },
     "user_tz": -420
    },
    "id": "3qU-eXeVkHCG"
   },
   "outputs": [],
   "source": [
    "# Python List\n",
    "\n",
    "a = [1, 2, 3, 4]\n",
    "b = [5, 6, 7, 8]"
   ]
  },
  {
   "cell_type": "code",
   "execution_count": 3,
   "metadata": {
    "colab": {
     "base_uri": "https://localhost:8080/",
     "height": 197
    },
    "executionInfo": {
     "elapsed": 2375,
     "status": "error",
     "timestamp": 1613291774689,
     "user": {
      "displayName": "Lili Pertiwi",
      "photoUrl": "https://lh5.googleusercontent.com/-s3q89hzi1-o/AAAAAAAAAAI/AAAAAAAAALU/lRrJn-VoZLw/s64/photo.jpg",
      "userId": "18353295371351247385"
     },
     "user_tz": -420
    },
    "id": "s8oesmiQkHCH",
    "outputId": "6105e94b-ce38-4cb6-8ef2-c43004e70a8a",
    "scrolled": true
   },
   "outputs": [
    {
     "ename": "NameError",
     "evalue": "name 'a' is not defined",
     "output_type": "error",
     "traceback": [
      "\u001b[1;31m---------------------------------------------------------------------------\u001b[0m",
      "\u001b[1;31mNameError\u001b[0m                                 Traceback (most recent call last)",
      "\u001b[1;32m<ipython-input-3-8da66cc73869>\u001b[0m in \u001b[0;36m<module>\u001b[1;34m\u001b[0m\n\u001b[1;32m----> 1\u001b[1;33m \u001b[0mprint\u001b[0m\u001b[1;33m(\u001b[0m\u001b[0ma\u001b[0m\u001b[1;33m+\u001b[0m\u001b[0mb\u001b[0m\u001b[1;33m)\u001b[0m\u001b[1;33m\u001b[0m\u001b[1;33m\u001b[0m\u001b[0m\n\u001b[0m\u001b[0;32m      2\u001b[0m \u001b[0mprint\u001b[0m\u001b[1;33m(\u001b[0m\u001b[0ma\u001b[0m\u001b[1;33m*\u001b[0m\u001b[0mb\u001b[0m\u001b[1;33m)\u001b[0m\u001b[1;33m\u001b[0m\u001b[1;33m\u001b[0m\u001b[0m\n",
      "\u001b[1;31mNameError\u001b[0m: name 'a' is not defined"
     ]
    }
   ],
   "source": [
    "print(a+b)\n",
    "print(a*b)"
   ]
  },
  {
   "cell_type": "markdown",
   "metadata": {
    "id": "uDVsDMsakHCH"
   },
   "source": [
    "In the `numpy` package the terminology used for vectors, matrices and higher-dimensional data sets is *array*. \n",
    "\n"
   ]
  },
  {
   "cell_type": "code",
   "execution_count": null,
   "metadata": {
    "executionInfo": {
     "elapsed": 2361,
     "status": "aborted",
     "timestamp": 1613291774687,
     "user": {
      "displayName": "Lili Pertiwi",
      "photoUrl": "https://lh5.googleusercontent.com/-s3q89hzi1-o/AAAAAAAAAAI/AAAAAAAAALU/lRrJn-VoZLw/s64/photo.jpg",
      "userId": "18353295371351247385"
     },
     "user_tz": -420
    },
    "id": "EqwdvUqhkHCI"
   },
   "outputs": [],
   "source": [
    "a_array = np.array(a)\n",
    "b_array = np.array(b)\n",
    "\n",
    "print(a_array + b_array)\n",
    "print(a_array * b_array)"
   ]
  },
  {
   "cell_type": "markdown",
   "metadata": {
    "id": "V272pxvNkHCI"
   },
   "source": [
    "## Creating `numpy` arrays"
   ]
  },
  {
   "cell_type": "markdown",
   "metadata": {
    "id": "AP4bMd8ykHCI"
   },
   "source": [
    "There are some ways to initialize new numpy arrays:\n",
    "* a Python list or tuples\n",
    "* using functions that are dedicated to generating numpy arrays, such as `arange`, `linspace`, etc.\n",
    "* reading data from files"
   ]
  },
  {
   "cell_type": "markdown",
   "metadata": {
    "id": "iB6ZPD3FkHCJ"
   },
   "source": [
    "### Lists"
   ]
  },
  {
   "cell_type": "code",
   "execution_count": 4,
   "metadata": {
    "id": "2KxDgoAikHCJ",
    "outputId": "d91b990f-2323-4edd-bafd-15bd717d820e"
   },
   "outputs": [
    {
     "data": {
      "text/plain": [
       "array([1, 2, 3, 4, 5])"
      ]
     },
     "execution_count": 4,
     "metadata": {},
     "output_type": "execute_result"
    }
   ],
   "source": [
    "# vector: the argument to the array function is a list\n",
    "v = np.array([1, 2, 3, 4, 5])\n",
    "\n",
    "v"
   ]
  },
  {
   "cell_type": "code",
   "execution_count": null,
   "metadata": {
    "id": "NUSl591akHCJ",
    "outputId": "28bb33eb-bd49-477e-a66c-6fe53cbdbd51"
   },
   "outputs": [
    {
     "data": {
      "text/plain": [
       "array([[1, 2, 3],\n",
       "       [4, 5, 6]])"
      ]
     },
     "execution_count": 8,
     "metadata": {
      "tags": []
     },
     "output_type": "execute_result"
    }
   ],
   "source": [
    "# matrix: the argument to the array function is a nested list\n",
    "m = np.array([[1, 2, 3], [4, 5, 6]])\n",
    "\n",
    "m"
   ]
  },
  {
   "cell_type": "markdown",
   "metadata": {
    "id": "OCMkJ8k8kHCK"
   },
   "source": [
    "The `v` and `m` objects are both of the type `ndarray` that the `numpy` module provides."
   ]
  },
  {
   "cell_type": "code",
   "execution_count": null,
   "metadata": {
    "id": "QNVwA4arkHCK",
    "outputId": "dde39461-89f5-483f-e4af-2ffa078e8197",
    "scrolled": true
   },
   "outputs": [
    {
     "data": {
      "text/plain": [
       "(numpy.ndarray, numpy.ndarray)"
      ]
     },
     "execution_count": 9,
     "metadata": {
      "tags": []
     },
     "output_type": "execute_result"
    }
   ],
   "source": [
    "type(v), type(m)"
   ]
  },
  {
   "cell_type": "code",
   "execution_count": null,
   "metadata": {
    "id": "IXVOBM1XkHCK"
   },
   "outputs": [],
   "source": [
    "a = [1,2,3]"
   ]
  },
  {
   "cell_type": "code",
   "execution_count": null,
   "metadata": {
    "id": "_e5-uYdokHCL",
    "outputId": "73a08464-0ee1-42c4-efcd-b2191fdee061"
   },
   "outputs": [
    {
     "data": {
      "text/plain": [
       "list"
      ]
     },
     "execution_count": 11,
     "metadata": {
      "tags": []
     },
     "output_type": "execute_result"
    }
   ],
   "source": [
    "type(a)"
   ]
  },
  {
   "cell_type": "markdown",
   "metadata": {
    "id": "jfOVNMRckHCM"
   },
   "source": [
    "The difference between the `v` and `m` arrays is only their shapes. We can get information about the shape of an array by using the `ndarray.shape` property."
   ]
  },
  {
   "cell_type": "code",
   "execution_count": null,
   "metadata": {
    "id": "V5JLVULQkHCO",
    "outputId": "5485f773-85f7-4e5e-f720-1bbbc2b7a718"
   },
   "outputs": [
    {
     "data": {
      "text/plain": [
       "(5,)"
      ]
     },
     "execution_count": 12,
     "metadata": {
      "tags": []
     },
     "output_type": "execute_result"
    }
   ],
   "source": [
    "v.shape"
   ]
  },
  {
   "cell_type": "code",
   "execution_count": null,
   "metadata": {
    "id": "E2UUIofDkHCP",
    "outputId": "36464130-2dcc-4dad-e4d4-557fb8e09ecb"
   },
   "outputs": [
    {
     "data": {
      "text/plain": [
       "(2, 3)"
      ]
     },
     "execution_count": 13,
     "metadata": {
      "tags": []
     },
     "output_type": "execute_result"
    }
   ],
   "source": [
    "m.shape"
   ]
  },
  {
   "cell_type": "markdown",
   "metadata": {
    "id": "SB86OVgMkHCQ"
   },
   "source": [
    "The number of elements in the array is available through the `ndarray.size` property"
   ]
  },
  {
   "cell_type": "code",
   "execution_count": null,
   "metadata": {
    "id": "Dq4y2YjmkHCR",
    "outputId": "62bb506f-d3b2-4fb0-b710-9c76b1b9eef4"
   },
   "outputs": [
    {
     "data": {
      "text/plain": [
       "6"
      ]
     },
     "execution_count": 14,
     "metadata": {
      "tags": []
     },
     "output_type": "execute_result"
    }
   ],
   "source": [
    "m.size"
   ]
  },
  {
   "cell_type": "markdown",
   "metadata": {
    "id": "D-1nr5r8kHCR"
   },
   "source": [
    "`numpy.ndarray` looks very similiar to the `list`. So, why not use the list instead?\n",
    "`numpay.ndarray` is used for several reason:\n",
    "1. Lists are very general. They can contain any kind of object. They do not support mathematical functions such as matrix and dot multiplication, etc. \n",
    "2. Numpy arrays are statically typed and homogenous. The type of the elements is determined when the array is created\n",
    "3. Numpy arrays are memory efficient\n",
    "4. It is fast for implementation of mathematical function"
   ]
  },
  {
   "cell_type": "markdown",
   "metadata": {
    "id": "kyPG3PLNkHCS"
   },
   "source": [
    "We can see the type of data of an array using `dtype`"
   ]
  },
  {
   "cell_type": "code",
   "execution_count": null,
   "metadata": {
    "id": "EWqCB-uukHCS",
    "outputId": "e3f37366-ae87-40eb-cf05-1b00df571b96"
   },
   "outputs": [
    {
     "data": {
      "text/plain": [
       "dtype('int32')"
      ]
     },
     "execution_count": 15,
     "metadata": {
      "tags": []
     },
     "output_type": "execute_result"
    }
   ],
   "source": [
    "m.dtype"
   ]
  },
  {
   "cell_type": "markdown",
   "metadata": {
    "id": "rB-JhzYGkHCS"
   },
   "source": [
    "If we want, we can explicitly define the type of the array data when we create it, using the `dtype` keyword argument: "
   ]
  },
  {
   "cell_type": "code",
   "execution_count": null,
   "metadata": {
    "id": "EwS5yPuNkHCT",
    "outputId": "fac5f2ef-a38b-4d6a-effe-ba66d446b712"
   },
   "outputs": [
    {
     "data": {
      "text/plain": [
       "array([[1., 2., 3.],\n",
       "       [4., 5., 6.]])"
      ]
     },
     "execution_count": 16,
     "metadata": {
      "tags": []
     },
     "output_type": "execute_result"
    }
   ],
   "source": [
    "m = np.array([[1, 2, 3], [4, 5, 6]], dtype=float)\n",
    "\n",
    "m"
   ]
  },
  {
   "cell_type": "markdown",
   "metadata": {
    "id": "Ny1ivVlTkHCT"
   },
   "source": [
    "Common data types that can be used with `dtype` are: `int`, `float`, `complex`, `bool`, `object`, etc."
   ]
  },
  {
   "cell_type": "markdown",
   "metadata": {
    "id": "0JF2eUv7kHCT"
   },
   "source": [
    "### Create Matrix Zeros"
   ]
  },
  {
   "cell_type": "code",
   "execution_count": null,
   "metadata": {
    "id": "oCWNt8vikHCU",
    "outputId": "edf994e6-7f67-4955-b387-b0aa77d041ae"
   },
   "outputs": [
    {
     "data": {
      "text/plain": [
       "array([0., 0., 0., 0., 0.])"
      ]
     },
     "execution_count": 17,
     "metadata": {
      "tags": []
     },
     "output_type": "execute_result"
    }
   ],
   "source": [
    "# One dimension\n",
    "\n",
    "zeros_matrix = np.zeros(5)\n",
    "\n",
    "zeros_matrix"
   ]
  },
  {
   "cell_type": "code",
   "execution_count": null,
   "metadata": {
    "id": "diNILXGjkHCU",
    "scrolled": true
   },
   "outputs": [],
   "source": [
    "#two dimension\n",
    "\n",
    "zeros_matrix2 = np.zeros((5,2))"
   ]
  },
  {
   "cell_type": "code",
   "execution_count": null,
   "metadata": {
    "id": "0rq-P9IIkHCU",
    "outputId": "2a2a95ca-df99-49dc-fc91-f00d98024a73"
   },
   "outputs": [
    {
     "data": {
      "text/plain": [
       "array([[0., 0.],\n",
       "       [0., 0.],\n",
       "       [0., 0.],\n",
       "       [0., 0.],\n",
       "       [0., 0.]])"
      ]
     },
     "execution_count": 19,
     "metadata": {
      "tags": []
     },
     "output_type": "execute_result"
    }
   ],
   "source": [
    "# should  be in tuple format\n",
    "\n",
    "zeros_matrix2 = np.zeros((5,2)) # 5 rows, 2 columns\n",
    "zeros_matrix2 "
   ]
  },
  {
   "cell_type": "markdown",
   "metadata": {
    "id": "xbHoXXxukHCV"
   },
   "source": [
    "### Matrix ones"
   ]
  },
  {
   "cell_type": "code",
   "execution_count": null,
   "metadata": {
    "id": "z6_1-tXTkHCV",
    "outputId": "248ad0aa-9f55-41a6-cb81-d68910ac83b4"
   },
   "outputs": [
    {
     "data": {
      "text/plain": [
       "array([1., 1., 1., 1., 1.])"
      ]
     },
     "execution_count": 20,
     "metadata": {
      "tags": []
     },
     "output_type": "execute_result"
    }
   ],
   "source": [
    "#one dimension\n",
    "\n",
    "matrix_ones = np.ones(5)\n",
    "matrix_ones "
   ]
  },
  {
   "cell_type": "code",
   "execution_count": null,
   "metadata": {
    "id": "NSOpJKRAkHCW",
    "outputId": "7336d402-3610-43b1-a58c-ee39a3e9361d",
    "scrolled": true
   },
   "outputs": [
    {
     "data": {
      "text/plain": [
       "(3, 4, 2)"
      ]
     },
     "execution_count": 24,
     "metadata": {
      "tags": []
     },
     "output_type": "execute_result"
    }
   ],
   "source": [
    "#3 dimension\n",
    "\n",
    "matrix_ones2 = np.ones((3, 4, 2)) #3 rows, 4 columns, 2 depth\n",
    "matrix_ones2.shape"
   ]
  },
  {
   "cell_type": "markdown",
   "metadata": {
    "id": "Yl-YdgWdkHCW"
   },
   "source": [
    "## > Exercise 1"
   ]
  },
  {
   "cell_type": "markdown",
   "metadata": {
    "id": "IYxmcfrnkHCW"
   },
   "source": [
    "1. Create a matrix from a list which has 4 rows and 3 columns"
   ]
  },
  {
   "cell_type": "markdown",
   "metadata": {
    "id": "D_KqUNyGkHCX"
   },
   "source": [
    "2. Create the following matrix\n",
    "![](image/lat11.png)"
   ]
  },
  {
   "cell_type": "markdown",
   "metadata": {
    "id": "n3k1rPnJkHCX"
   },
   "source": [
    "3. Create a 2D matrix with size of 10"
   ]
  },
  {
   "cell_type": "markdown",
   "metadata": {
    "id": "43kJAcfwkHCX"
   },
   "source": [
    "4. Create a 3D matrix of ones which has 2 rows, 3 columns, and 3 depth"
   ]
  },
  {
   "cell_type": "code",
   "execution_count": null,
   "metadata": {
    "id": "Njqoyd91kHCX",
    "outputId": "7038cbd7-0683-4594-b75c-ee54bfd62602"
   },
   "outputs": [
    {
     "data": {
      "text/plain": [
       "(2, 3, 3)"
      ]
     },
     "execution_count": 26,
     "metadata": {
      "tags": []
     },
     "output_type": "execute_result"
    }
   ],
   "source": [
    "m4 = np.array([\n",
    "    [[1,2,3],\n",
    "     [4,5,6],\n",
    "     [7,8,9]],\n",
    "    \n",
    "    [[10,11,12],\n",
    "     [13,14,15],\n",
    "     [16,17,18]]\n",
    "])\n",
    "m4.shape"
   ]
  },
  {
   "cell_type": "markdown",
   "metadata": {
    "id": "UO6sFhV3kHCY"
   },
   "source": [
    "5. Make the following arrays from zeros arrays and with for loops\n",
    "![](image/exercise1.png)"
   ]
  },
  {
   "cell_type": "code",
   "execution_count": null,
   "metadata": {
    "id": "qz_ZLsBskHCY",
    "outputId": "43a8e377-4ece-44c2-d3e3-477ee15216ed"
   },
   "outputs": [
    {
     "data": {
      "text/plain": [
       "array([[0., 0., 0.],\n",
       "       [0., 0., 0.],\n",
       "       [0., 0., 0.],\n",
       "       [0., 0., 0.],\n",
       "       [0., 0., 0.]])"
      ]
     },
     "execution_count": 27,
     "metadata": {
      "tags": []
     },
     "output_type": "execute_result"
    }
   ],
   "source": [
    "m5 = np.zeros((5,3))\n",
    "m5"
   ]
  },
  {
   "cell_type": "code",
   "execution_count": null,
   "metadata": {
    "id": "nALk29UJkHCb",
    "outputId": "0e83c945-45db-4a0e-f645-4611c8757474"
   },
   "outputs": [
    {
     "name": "stdout",
     "output_type": "stream",
     "text": [
      "[2. 2. 2.]\n",
      "[2. 2. 2.]\n",
      "[2. 2. 2.]\n",
      "[2. 2. 2.]\n",
      "[2. 2. 2.]\n"
     ]
    }
   ],
   "source": [
    "for i in m5:\n",
    "    print(i+2)"
   ]
  }
 ],
 "metadata": {
  "colab": {
   "name": "Pert1_Numpy.ipynb",
   "provenance": []
  },
  "kernelspec": {
   "display_name": "Python 3",
   "language": "python",
   "name": "python3"
  },
  "language_info": {
   "codemirror_mode": {
    "name": "ipython",
    "version": 3
   },
   "file_extension": ".py",
   "mimetype": "text/x-python",
   "name": "python",
   "nbconvert_exporter": "python",
   "pygments_lexer": "ipython3",
   "version": "3.8.8"
  }
 },
 "nbformat": 4,
 "nbformat_minor": 1
}
